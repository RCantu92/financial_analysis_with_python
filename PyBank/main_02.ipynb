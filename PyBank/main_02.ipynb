{
 "cells": [
  {
   "cell_type": "code",
   "execution_count": 43,
   "metadata": {},
   "outputs": [
    {
     "name": "stdout",
     "output_type": "stream",
     "text": [
      "['Date', 'Profit/Losses']\n"
     ]
    },
    {
     "ename": "TypeError",
     "evalue": "'_csv.reader' object is not subscriptable",
     "output_type": "error",
     "traceback": [
      "\u001b[0;31m---------------------------------------------------------------------------\u001b[0m",
      "\u001b[0;31mTypeError\u001b[0m                                 Traceback (most recent call last)",
      "\u001b[0;32m<ipython-input-43-1ea80c33d153>\u001b[0m in \u001b[0;36m<module>\u001b[0;34m\u001b[0m\n\u001b[1;32m     29\u001b[0m \u001b[0;34m\u001b[0m\u001b[0m\n\u001b[1;32m     30\u001b[0m     \u001b[0;31m# Initialize two arguments\u001b[0m\u001b[0;34m\u001b[0m\u001b[0;34m\u001b[0m\u001b[0;34m\u001b[0m\u001b[0m\n\u001b[0;32m---> 31\u001b[0;31m     \u001b[0mmonths\u001b[0m \u001b[0;34m=\u001b[0m \u001b[0mcsv_reader\u001b[0m\u001b[0;34m[\u001b[0m\u001b[0;36m0\u001b[0m\u001b[0;34m]\u001b[0m\u001b[0;34m\u001b[0m\u001b[0;34m\u001b[0m\u001b[0m\n\u001b[0m\u001b[1;32m     32\u001b[0m     \u001b[0mprint\u001b[0m\u001b[0;34m(\u001b[0m\u001b[0mmonths\u001b[0m\u001b[0;34m)\u001b[0m\u001b[0;34m\u001b[0m\u001b[0;34m\u001b[0m\u001b[0m\n\u001b[1;32m     33\u001b[0m     \u001b[0;31m# profitchange = csv_reader[1]\u001b[0m\u001b[0;34m\u001b[0m\u001b[0;34m\u001b[0m\u001b[0;34m\u001b[0m\u001b[0m\n",
      "\u001b[0;31mTypeError\u001b[0m: '_csv.reader' object is not subscriptable"
     ]
    }
   ],
   "source": [
    "# Import Path from path library\n",
    "from pathlib import Path\n",
    "\n",
    "# Import csv\n",
    "import csv\n",
    "\n",
    "# Set csv path to a variable\n",
    "budget_data_path = Path(\"budget_data.csv\")\n",
    "\n",
    "# Initialize variables\n",
    "total_months = 0\n",
    "net_total = 0\n",
    "average_changes = 0\n",
    "greatest_increase = 0\n",
    "greatest_decrease = 0\n",
    "\n",
    "# Make csv path into an object, in read version\n",
    "with open(budget_data_path, 'r') as budget_data_file:\n",
    "    \n",
    "    # Pass in the csv file to the csv.reader() function\n",
    "    # (with ',' as the delmiter/separator)\n",
    "    csv_reader = csv.reader(budget_data_file, delimiter = ',')\n",
    "    \n",
    "    # Skip the header row\n",
    "    csv_header = next(csv_reader)\n",
    "    \n",
    "    # Initialize two lists\n",
    "    months = []\n",
    "    profitchange = []\n",
    "    \n",
    "    \n",
    "    # profitchange = csv_reader[1]\n",
    "    # profit_change = int(profitchange)\n",
    "    \n"
   ]
  },
  {
   "cell_type": "code",
   "execution_count": null,
   "metadata": {},
   "outputs": [],
   "source": [
    "    # Iterate through all of the rows in the file, with two inputs\n",
    "    for profitchange in csv_reader:\n",
    "        \n",
    "        # Total number of months\n",
    "        total_months += 1\n",
    "        \n",
    "        # Convert profit from string to integer\n",
    "        profit_change = int(profitchange)\n",
    "        \n",
    "        # For loop to iterate through amount changes\n",
    "        # to determine biggest increase and decrease\n",
    "        for profit_value in profit_change:\n",
    "            \n",
    "            # Logic to determine greatest increase and decrease\n",
    "            if profit_value == 0:\n",
    "                greatest_decrease = profit_value\n",
    "                greatest_increase = profit_value\n",
    "            elif profit_value < greatest_decrease:\n",
    "                greatest_decrease = profit_value\n",
    "            elif profit_value > greatest_increase:\n",
    "                greatest_increase = profit_value\n",
    "        \n",
    "        # Net Total amount\n",
    "        net_total += profit_change\n",
    "        \n",
    "        \n",
    "return greatest_increase\n",
    "return greatest_decrease\n",
    "            \n",
    "        \n",
    "# Calculate average changes\n",
    "average_changes = net_total / total_months\n",
    "round(average_changes, 2)       \n",
    "        \n",
    "        \n",
    "print(\"Financial Analysis\")\n",
    "print(\"----------------------------\")\n",
    "print(f\"Total Months: {total_months}\")\n",
    "print(f\"Total: ${net_total}\")\n",
    "print(f\"Average  Change: ${average_changes}\")\n",
    "print(f\"Greatest Increase in Profits: #month ${greatest_increase}\")\n",
    "print(f\"Greatest Decrease in Profits: #month ${greatest_decrease}\")"
   ]
  }
 ],
 "metadata": {
  "kernelspec": {
   "display_name": "Python 3",
   "language": "python",
   "name": "python3"
  },
  "language_info": {
   "codemirror_mode": {
    "name": "ipython",
    "version": 3
   },
   "file_extension": ".py",
   "mimetype": "text/x-python",
   "name": "python",
   "nbconvert_exporter": "python",
   "pygments_lexer": "ipython3",
   "version": "3.7.3"
  }
 },
 "nbformat": 4,
 "nbformat_minor": 2
}
