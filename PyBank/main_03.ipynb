{
 "cells": [
  {
   "cell_type": "code",
   "execution_count": 44,
   "metadata": {},
   "outputs": [
    {
     "name": "stdout",
     "output_type": "stream",
     "text": [
      "Financial Analysis\n",
      "----------------------------\n",
      "Total Months: 86\n",
      "Total: $38382578\n",
      "Average  Change: $0\n",
      "Greatest Increase in Profits: Feb-2012 ($1926159)\n",
      "Greatest Decrease in Profits: Sep-2013 ($-2196167)\n"
     ]
    }
   ],
   "source": [
    "# Import Path from pathlib\n",
    "from pathlib import Path\n",
    "# Import csv\n",
    "import csv\n",
    "\n",
    "# Set csv path to a variable\n",
    "budget_data_path = Path(\"budget_data.csv\")\n",
    "\n",
    "# Initialize variables\n",
    "total_months = 0\n",
    "net_total = 0\n",
    "average_changes = 0\n",
    "greatest_increase_amount = 0\n",
    "greatest_increase_month = None\n",
    "greatest_decrease_amount = 0\n",
    "greatest_decrease_month = None\n",
    "previous_month_profit = 0\n",
    "\n",
    "# Make csv path into an object, in read version\n",
    "with open(budget_data_path, 'r') as budget_data_file:\n",
    "    \n",
    "    # Pass in the csv file to the csv.reader() function (with ',' as the delmiter/separator)\n",
    "    csv_reader = csv.reader(budget_data_file, delimiter = ',')\n",
    "    \n",
    "    # Skip the header row\n",
    "    csv_header = next(csv_reader)\n",
    "    \n",
    "    # Make csv file into a list of lists\n",
    "    csv_list = list(csv_reader)\n",
    "    \n",
    "    # Create a foor loop to iterate through list items with two inputs: month, profit\n",
    "    for month, profit_string in csv_list:\n",
    "        \n",
    "        # Convert profit index into intergers\n",
    "        profit = int(profit_string)\n",
    "        \n",
    "        # Logic to determine greatest decease and increase amounts and months\n",
    "        if total_months == 0:\n",
    "            previous_month_profit = profit\n",
    "            \n",
    "        elif profit < previous_month_profit and profit < greatest_decrease_amount:\n",
    "            greatest_decrease_amount = profit - previous_month_profit\n",
    "            greatest_decrease_month = month\n",
    "            \n",
    "        elif profit > previous_month_profit and profit > greatest_increase_amount:\n",
    "            greatest_increase_amount = profit - previous_month_profit\n",
    "            greatest_increase_month = month\n",
    "            \n",
    "            \n",
    "        # Calculate the total_months and net_total through the iterations\n",
    "        previous_month_profit = profit\n",
    "        total_months += 1\n",
    "        net_total += profit\n",
    "        \n",
    "\n",
    "# Print results\n",
    "print(\"Financial Analysis\")\n",
    "print(\"----------------------------\")\n",
    "print(f\"Total Months: {total_months}\")\n",
    "print(f\"Total: ${net_total}\")\n",
    "print(f\"Average  Change: ${average_changes}\")\n",
    "print(f\"Greatest Increase in Profits: {greatest_increase_month} (${greatest_increase_amount})\")\n",
    "print(f\"Greatest Decrease in Profits: {greatest_decrease_month} (${greatest_decrease_amount})\")"
   ]
  },
  {
   "cell_type": "code",
   "execution_count": 17,
   "metadata": {},
   "outputs": [],
   "source": []
  },
  {
   "cell_type": "code",
   "execution_count": 28,
   "metadata": {},
   "outputs": [],
   "source": []
  },
  {
   "cell_type": "code",
   "execution_count": 19,
   "metadata": {},
   "outputs": [],
   "source": [
    "Increase_Decrease = []\n",
    "\n",
    "data = data.loc[1,\"Profit/Losses\"]\n",
    "for i in range(1,len(data)):\n",
    "    Increase_Decrease.append(data.loc[i,\"Profit/Losses\"] - data.loc[i-1,\"Profit/Losses\"])\n",
    "    \n",
    "    \n"
   ]
  },
  {
   "cell_type": "code",
   "execution_count": null,
   "metadata": {},
   "outputs": [],
   "source": []
  },
  {
   "cell_type": "code",
   "execution_count": null,
   "metadata": {},
   "outputs": [],
   "source": []
  }
 ],
 "metadata": {
  "kernelspec": {
   "display_name": "Python 3",
   "language": "python",
   "name": "python3"
  },
  "language_info": {
   "codemirror_mode": {
    "name": "ipython",
    "version": 3
   },
   "file_extension": ".py",
   "mimetype": "text/x-python",
   "name": "python",
   "nbconvert_exporter": "python",
   "pygments_lexer": "ipython3",
   "version": "3.7.3"
  }
 },
 "nbformat": 4,
 "nbformat_minor": 2
}
