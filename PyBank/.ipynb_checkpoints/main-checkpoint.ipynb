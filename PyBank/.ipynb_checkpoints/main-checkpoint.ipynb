{
 "cells": [
  {
   "cell_type": "code",
   "execution_count": 44,
   "metadata": {},
   "outputs": [
    {
     "name": "stdout",
     "output_type": "stream",
     "text": [
      "867884\n"
     ]
    },
    {
     "ename": "TypeError",
     "evalue": "'int' object is not iterable",
     "output_type": "error",
     "traceback": [
      "\u001b[0;31m---------------------------------------------------------------------------\u001b[0m",
      "\u001b[0;31mTypeError\u001b[0m                                 Traceback (most recent call last)",
      "\u001b[0;32m<ipython-input-44-b4b43bd7bd3e>\u001b[0m in \u001b[0;36m<module>\u001b[0;34m\u001b[0m\n\u001b[1;32m     43\u001b[0m         \u001b[0;31m# For loop to iterate through amount changes\u001b[0m\u001b[0;34m\u001b[0m\u001b[0;34m\u001b[0m\u001b[0;34m\u001b[0m\u001b[0m\n\u001b[1;32m     44\u001b[0m         \u001b[0;31m# to determine biggest increase and decrease\u001b[0m\u001b[0;34m\u001b[0m\u001b[0;34m\u001b[0m\u001b[0;34m\u001b[0m\u001b[0m\n\u001b[0;32m---> 45\u001b[0;31m         \u001b[0;32mfor\u001b[0m \u001b[0mprofit_change\u001b[0m \u001b[0;32min\u001b[0m \u001b[0mprofit_or_loss\u001b[0m\u001b[0;34m:\u001b[0m\u001b[0;34m\u001b[0m\u001b[0;34m\u001b[0m\u001b[0m\n\u001b[0m\u001b[1;32m     46\u001b[0m \u001b[0;34m\u001b[0m\u001b[0m\n\u001b[1;32m     47\u001b[0m             \u001b[0;31m# Logic to determine minimum and maximum values\u001b[0m\u001b[0;34m\u001b[0m\u001b[0;34m\u001b[0m\u001b[0;34m\u001b[0m\u001b[0m\n",
      "\u001b[0;31mTypeError\u001b[0m: 'int' object is not iterable"
     ]
    }
   ],
   "source": [
    "# Import Path from path library\n",
    "from pathlib import Path\n",
    "\n",
    "# Import csv\n",
    "import csv\n",
    "\n",
    "# Set csv path to a variable\n",
    "budget_data_path = Path(\"budget_data.csv\")\n",
    "\n",
    "# Initialize variables\n",
    "total_months = 0\n",
    "net_total = 0\n",
    "average_changes = 0\n",
    "greatest_increase = 0\n",
    "greatest_decrease = 0\n",
    "\n",
    "# Make csv path into an object, in read version\n",
    "with open(budget_data_path, 'r') as budget_data_file:\n",
    "    \n",
    "    # Pass in the csv file to the csv.reader() function\n",
    "    # (with ',' as the delmiter/separator)\n",
    "    csvreader = csv.reader(budget_data_file, delimiter = ',')\n",
    "    \n",
    "    # Skip the header row\n",
    "    csv_header = next(csvreader)\n",
    "    \n",
    "    # Iterate through all of the rows in the file\n",
    "    for row in csvreader:\n",
    "        \n",
    "        # Set the 'date' and 'profit/loss' variables for better\n",
    "        # readability, convert strings to ints for numerical calculations\n",
    "        date = row[0]\n",
    "        profit_or_loss = int(row[1])\n",
    "                             \n",
    "        # Total number of months\n",
    "        total_months += 1\n",
    "        \n",
    "        # Net Total amount\n",
    "        net_total += profit_or_loss\n",
    "        \n",
    "        print(net_total)\n",
    "        \n",
    "        # For loop to iterate through amount changes\n",
    "        # to determine biggest increase and decrease\n",
    "        for profit_change in profit_or_loss:\n",
    "            \n",
    "            # Logic to determine minimum and maximum values\n",
    "            if profit_change == 0:\n",
    "                greatest_decrease = profit_change\n",
    "                greatest_increase = profit_change\n",
    "            elif profit_change < greatest_decrease:\n",
    "                greatest_decrease = profit_change\n",
    "            elif profit_change > greatest_increase:\n",
    "                greatest_increase = profit_change\n",
    "        \n",
    "return greatest_increase\n",
    "return greatest_decrease\n",
    "            \n",
    "        \n",
    "# Average changes\n",
    "average_changes = net_total / total_months\n",
    "round(average_changes, 2)       \n",
    "        \n",
    "        \n",
    "print(\"Financial Analysis\")\n",
    "print(\"----------------------------\")\n",
    "print(f\"Total Months: {total_months}\")\n",
    "print(f\"Total: ${net_total}\")\n",
    "print(f\"Average  Change: ${average_changes}\")\n",
    "print(f\"Greatest Increase in Profits: #month ${greatest_increase}\")\n",
    "print(f\"Greatest Decrease in Profits: #month ${greatest_decrease}\")"
   ]
  },
  {
   "cell_type": "code",
   "execution_count": null,
   "metadata": {},
   "outputs": [],
   "source": []
  },
  {
   "cell_type": "code",
   "execution_count": null,
   "metadata": {},
   "outputs": [],
   "source": []
  }
 ],
 "metadata": {
  "kernelspec": {
   "display_name": "Python 3",
   "language": "python",
   "name": "python3"
  },
  "language_info": {
   "codemirror_mode": {
    "name": "ipython",
    "version": 3
   },
   "file_extension": ".py",
   "mimetype": "text/x-python",
   "name": "python",
   "nbconvert_exporter": "python",
   "pygments_lexer": "ipython3",
   "version": "3.7.3"
  }
 },
 "nbformat": 4,
 "nbformat_minor": 2
}
