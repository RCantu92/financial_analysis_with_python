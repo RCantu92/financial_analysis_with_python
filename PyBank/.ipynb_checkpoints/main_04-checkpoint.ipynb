{
 "cells": [
  {
   "cell_type": "code",
   "execution_count": 55,
   "metadata": {},
   "outputs": [],
   "source": [
    "# Import Path from pathlib\n",
    "from pathlib import Path\n",
    "# Import csv\n",
    "import csv\n",
    "\n",
    "# Set csv path to a variable\n",
    "budget_data_path = Path(\"budget_data.csv\")\n",
    "\n",
    "# Initialize lists\n",
    "month_list = []\n",
    "profit_list = []"
   ]
  },
  {
   "cell_type": "code",
   "execution_count": 56,
   "metadata": {},
   "outputs": [],
   "source": [
    "# Make csv path into an object, in read version\n",
    "with open(budget_data_path, 'r') as budget_data_file:\n",
    "    \n",
    "    # Pass in the csv file to the csv.reader() function (with ',' as the delmiter/separator)\n",
    "    csv_reader = csv.reader(budget_data_file, delimiter = ',')\n",
    "    \n",
    "    # Skip the header row\n",
    "    csv_header = next(csv_reader)\n",
    "    \n",
    "    # Make csv file into a list of lists\n",
    "    csv_list = list(csv_reader)\n",
    "    \n",
    "    # Create a for loop to iterate through list items to seperate into different lists\n",
    "    for row in csv_list:\n",
    "        \n",
    "        month = row[0]\n",
    "        profit = int(row[1])\n",
    "        \n",
    "        month_list.append(month)\n",
    "        profit_list.append(profit)"
   ]
  },
  {
   "cell_type": "code",
   "execution_count": 57,
   "metadata": {},
   "outputs": [],
   "source": [
    "# Initialize variables\n",
    "total_months = 0\n",
    "net_total = 0\n",
    "average_changes = 0\n",
    "greatest_increase_amount = 0\n",
    "greatest_increase_month = None\n",
    "greatest_decrease_amount = 0\n",
    "greatest_decrease_month = None\n",
    "previous_month_profit = 0\n",
    "\n",
    "profit_change = 0\n",
    "profit_changes_list = []\n",
    "previous_profit = 0\n",
    "\n",
    "profit_entry = 0"
   ]
  },
  {
   "cell_type": "code",
   "execution_count": 58,
   "metadata": {},
   "outputs": [],
   "source": [
    "for profit in profit_list:\n",
    "    \n",
    "    if profit_entry == 0:\n",
    "        \n",
    "        previous_profit = profit\n",
    "        \n",
    "    elif total_months > 0:\n",
    "        \n",
    "        profit_change = profit - previous_profit\n",
    "    \n",
    "    profit_changes_list.append(profit_change)\n",
    "    previous_profit = profit\n",
    "    profit_entry += 1\n",
    "    \n",
    "profit_change_entry = 0"
   ]
  },
  {
   "cell_type": "code",
   "execution_count": 59,
   "metadata": {},
   "outputs": [
    {
     "name": "stdout",
     "output_type": "stream",
     "text": [
      "Financial Analysis\n",
      "----------------------------\n",
      "Total Months: 0\n",
      "Total: $0\n",
      "Average  Change: $0\n",
      "Greatest Increase in Profits: None ($0)\n",
      "Greatest Decrease in Profits: None ($0)\n"
     ]
    }
   ],
   "source": [
    "for profit_change in profit_changes_list: \n",
    "    \n",
    "    # Logic to determine greatest decease and increase amounts and months\n",
    "    if profit_change_entry == 0:\n",
    "        greatest_increase_amount = profit_change\n",
    "        greatest_decrease_amount = profit_change\n",
    "\n",
    "    elif profit_change < greatest_decrease_amount:\n",
    "        greatest_decrease_amount = profit_change\n",
    "\n",
    "    elif profit_change > greatest_increase_amount:\n",
    "        greatest_increase_amount = profit_change\n",
    "        \n",
    "    profit_change_entry += 1\n",
    "\n",
    "\n",
    "# Print results\n",
    "print(\"Financial Analysis\")\n",
    "print(\"----------------------------\")\n",
    "print(f\"Total Months: {total_months}\")\n",
    "print(f\"Total: ${net_total}\")\n",
    "print(f\"Average  Change: ${average_changes}\")\n",
    "print(f\"Greatest Increase in Profits: {greatest_increase_month} (${greatest_increase_amount})\")\n",
    "print(f\"Greatest Decrease in Profits: {greatest_decrease_month} (${greatest_decrease_amount})\")"
   ]
  },
  {
   "cell_type": "code",
   "execution_count": null,
   "metadata": {},
   "outputs": [],
   "source": []
  }
 ],
 "metadata": {
  "kernelspec": {
   "display_name": "Python 3",
   "language": "python",
   "name": "python3"
  },
  "language_info": {
   "codemirror_mode": {
    "name": "ipython",
    "version": 3
   },
   "file_extension": ".py",
   "mimetype": "text/x-python",
   "name": "python",
   "nbconvert_exporter": "python",
   "pygments_lexer": "ipython3",
   "version": "3.7.3"
  }
 },
 "nbformat": 4,
 "nbformat_minor": 2
}
